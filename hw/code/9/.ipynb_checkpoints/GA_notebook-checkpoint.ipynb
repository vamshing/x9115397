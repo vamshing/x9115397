{
 "cells": [
  {
   "cell_type": "code",
   "execution_count": null,
   "metadata": {
    "collapsed": true
   },
   "outputs": [],
   "source": [
    "import sys\n",
    "import random\n",
    "sys.path\n",
    "sys.path.append('/Users/vamshiguduguntla/Documents/CSC591/Github/x9115397/hw/code/9/models/')"
   ]
  },
  {
   "cell_type": "code",
   "execution_count": null,
   "metadata": {
    "collapsed": true
   },
   "outputs": [],
   "source": [
    "from DTLZ1 import *\n",
    "from DTLZ3 import *\n",
    "from DTLZ5 import *\n",
    "from DTLZ7 import *"
   ]
  },
  {
   "cell_type": "code",
   "execution_count": null,
   "metadata": {
    "collapsed": false
   },
   "outputs": [],
   "source": [
    "class GA:\n",
    "    \n",
    "    def __init__(self,model,num_candidates = 100,num_generations = 10,mutation_prob = 0.05):\n",
    "        self.num_objectives = model.num_objectives\n",
    "        self.num_decisions = model.num_decisions\n",
    "        self.num_candidates = num_candidates\n",
    "        self.num_generations = num_generations\n",
    "        self.mutation_prob = mutation_prob\n",
    "        self.lives = 5\n",
    "        self.frontier = []\n",
    "        self.frontier_new = []\n",
    "        self.base_frontier = []\n",
    "        self.main(model)\n",
    "        \n",
    "    def binary_domination(self,x,y):\n",
    "        \"\"\"\n",
    "        Type I comparison\n",
    "        Returns whether candidate x dominates candidate y (Binary domination)\n",
    "        \"\"\"\n",
    "        x_obj_vec = model.function_value(x)\n",
    "        y_obj_vec = model.function_value(y)\n",
    "        \n",
    "        for i in range(model.num_objectives):\n",
    "            if x_obj_vec[i] < y_obj_vec[i]:\n",
    "                return False\n",
    "        return True\n",
    "    \n",
    "    \n",
    "    def select(self,box):\n",
    "        \"\"\"\n",
    "        Return the candidate which has binary dominated candidates in the box\n",
    "        \"\"\"\n",
    "        fr = []\n",
    "        for x in box:\n",
    "            selection = -1\n",
    "            for y in box:\n",
    "                if self.binary_domination(x,y):\n",
    "                    selection = 1\n",
    "                    break\n",
    "            if selection == 1:\n",
    "                fr.append(x)\n",
    "        return fr\n",
    "    \n",
    "    \n",
    "    def crossover(self,parent_1,parent_2,child):\n",
    "        \"\"\"\n",
    "        Picks a random decision, take all dad's decisions up to that point, take alll mum's decisions after that point\n",
    "        \"\"\"\n",
    "        while True:\n",
    "            rand_int = random.randint(0,model.num_decisions)\n",
    "            child.dec = list(np.array(parent_1)[:rand_int])+list(np.array(parent_2)[rand_int:])\n",
    "            if child.ok():\n",
    "                return child\n",
    "        \n",
    "    def mutate(self,child):\n",
    "        \"\"\"\n",
    "        Picks a candidate, returns the random decisions to create a new candidate\n",
    "        \"\"\"\n",
    "        child.randomstate()\n",
    "        return child\n",
    "        \n",
    "        \n",
    "    def penalize_lives(self):\n",
    "        \n",
    "        \"\"\"\n",
    "        Type II comparison\n",
    "        Compares between current frontier and the previous frontier\n",
    "        if atleast one is better in the current frontier - dont penalize\n",
    "        \"\"\"\n",
    "        for x in self.frontier_new:\n",
    "            penalty = -1\n",
    "            for y in self.frontier:\n",
    "                if self.binary_domination(x,y):\n",
    "                    return 5\n",
    "        return self.lives-1\n",
    "    \n",
    "                    \n",
    "    def main(self,model):\n",
    "        \n",
    "        box =  [model.randomstate() for _ in range(self.num_candidates)]\n",
    "        self.base_frontier = self.select(box)\n",
    "        self.frontier = self.select(box)\n",
    "        \n",
    "        for i in range(self.num_generations):\n",
    "            newbox = []\n",
    "            for j in range(self.num_candidates):\n",
    "                \n",
    "                child = model\n",
    "                sample = np.random.randint(0, len(self.frontier), size=2)\n",
    "                parent_1 = self.frontier[sample[0]]\n",
    "                parent_2= self.frontier[sample[1]]\n",
    "                self.crossover(parent_1,parent_2,child)\n",
    "                if random.random() < self.mutation_prob :\n",
    "                    self.mutate(child)\n",
    "                    \n",
    "                newbox.append(child.dec)\n",
    "            \n",
    "            self.frontier_new = []\n",
    "            self.frontier_new = self.select(newbox)\n",
    "            self.lives = self.penalize_lives()\n",
    "            \n",
    "            if self.lives == 0:\n",
    "                break\n",
    "            \n",
    "            box = newbox\n",
    "            self.frontier = self.frontier_new\n",
    "            \n",
    "            print '### Generation:',i,'No. of lives',self.lives\n",
    "            \n",
    "        print self.frontier_new\n",
    "\n",
    "\n",
    "# In[14]:\n",
    "\n",
    "model = DTLZ7(2,10)\n",
    "state = model.randomstate()\n",
    "GA(model)"
   ]
  },
  {
   "cell_type": "code",
   "execution_count": null,
   "metadata": {
    "collapsed": true
   },
   "outputs": [],
   "source": []
  },
  {
   "cell_type": "code",
   "execution_count": null,
   "metadata": {
    "collapsed": true
   },
   "outputs": [],
   "source": []
  }
 ],
 "metadata": {
  "kernelspec": {
   "display_name": "Python 2",
   "language": "python",
   "name": "python2"
  },
  "language_info": {
   "codemirror_mode": {
    "name": "ipython",
    "version": 2
   },
   "file_extension": ".py",
   "mimetype": "text/x-python",
   "name": "python",
   "nbconvert_exporter": "python",
   "pygments_lexer": "ipython2",
   "version": "2.7.10"
  }
 },
 "nbformat": 4,
 "nbformat_minor": 0
}
